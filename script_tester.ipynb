{
 "cells": [
  {
   "cell_type": "code",
   "execution_count": 3,
   "metadata": {},
   "outputs": [],
   "source": [
    "from selenium import webdriver\n",
    "from selenium.webdriver.common.keys import Keys\n",
    "from selenium.webdriver import ActionChains\n",
    "from selenium.webdriver.chrome.options import Options\n",
    "from selenium.webdriver.chrome.service import Service\n",
    "from selenium.webdriver.common.by import By\n",
    "from selenium.common.exceptions import NoSuchElementException, StaleElementReferenceException\n",
    "import selenium\n",
    "import datetime\n",
    "import os\n",
    "import time"
   ]
  },
  {
   "cell_type": "code",
   "execution_count": 4,
   "metadata": {},
   "outputs": [],
   "source": [
    "username = os.getenv('username')\n",
    "password = os.getenv('password')"
   ]
  },
  {
   "cell_type": "code",
   "execution_count": 5,
   "metadata": {},
   "outputs": [],
   "source": [
    "class Twitterbot:\n",
    " \n",
    "    def __init__(self, email, password):\n",
    "        self.email = email\n",
    "        self.password = password\n",
    "        chrome_options = Options()\n",
    "        chrome_options.add_argument(\"--start-maximized\")\n",
    "        service = Service(executable_path=os.path.join(os.getcwd(),'chromedriver.exe'))\n",
    "        self.bot = webdriver.Chrome(\n",
    "            options = chrome_options,\n",
    "            service=service\n",
    "        )\n",
    " \n",
    "    def login(self):\n",
    "        while True:\n",
    "            try:\n",
    "                bot = self.bot\n",
    "                bot.get('https://twitter.com/login')\n",
    "                time.sleep(6)\n",
    "                email = bot.find_element(By.XPATH,\n",
    "                    '//input'\n",
    "                )\n",
    "                email.send_keys(self.email)\n",
    "                \n",
    "                time.sleep(5)\n",
    "                ActionChains(bot).send_keys(Keys.RETURN).perform()\n",
    "                time.sleep(3)\n",
    "                password = bot.find_elements(By.TAG_NAME,\n",
    "                    \"input\"\n",
    "                )[1]\n",
    "                password.send_keys(self.password)\n",
    "                \n",
    "                ActionChains(bot).send_keys(Keys.RETURN).perform()\n",
    "                time.sleep(3)\n",
    "                break\n",
    "            except Exception:\n",
    "                pass\n",
    "            except KeyboardInterrupt:\n",
    "                return"
   ]
  },
  {
   "cell_type": "code",
   "execution_count": 6,
   "metadata": {},
   "outputs": [],
   "source": [
    "driver = Twitterbot(username, password)"
   ]
  },
  {
   "cell_type": "code",
   "execution_count": 7,
   "metadata": {},
   "outputs": [],
   "source": [
    "driver.login()"
   ]
  },
  {
   "cell_type": "code",
   "execution_count": 8,
   "metadata": {},
   "outputs": [],
   "source": [
    "keyword = \"hockey\"\n",
    "url = f\"https://x.com/search?q={keyword}&src=typed_query&f=user\""
   ]
  },
  {
   "cell_type": "code",
   "execution_count": null,
   "metadata": {},
   "outputs": [],
   "source": []
  },
  {
   "cell_type": "code",
   "execution_count": 14,
   "metadata": {},
   "outputs": [],
   "source": [
    "accountsToScrape = 10\n",
    "driver.bot.get(url)\n",
    "accs = []\n",
    "while accountsToScrape > 0:\n",
    "    divs = driver.bot.find_elements(By.XPATH, '//div[@data-testid=\"cellInnerDiv\"]')\n",
    "    for div in divs:\n",
    "        try:\n",
    "            if accountsToScrape == 0:\n",
    "                break\n",
    "            try:\n",
    "                if div.text.split(\"\\n\")[1] in accs:\n",
    "                    continue\n",
    "            except:\n",
    "                continue\n",
    "            try:\n",
    "                if div.text.split(\"\\n\")[2] in accs:\n",
    "                    continue\n",
    "            except:\n",
    "                pass\n",
    "            accs.append(div.text.split(\"\\n\")[1]) if \"followed by\" not in div.text.lower() else accs.append(div.text.split(\"\\n\")[2])\n",
    "            accountsToScrape -= 1\n",
    "            div.location_once_scrolled_into_view\n",
    "        except StaleElementReferenceException:\n",
    "            pass"
   ]
  },
  {
   "cell_type": "code",
   "execution_count": 15,
   "metadata": {},
   "outputs": [
    {
     "data": {
      "text/plain": [
       "['@TheHockeyIndia',\n",
       " '@EelcoHoecke',\n",
       " '@KeyboardMonkey3',\n",
       " '@16Sreejesh',\n",
       " '@FootLockerEU',\n",
       " '@IIHFHockey',\n",
       " '@HockeyCanada',\n",
       " '@hockeynight',\n",
       " '@FIH_Hockey',\n",
       " '@khl_eng']"
      ]
     },
     "execution_count": 15,
     "metadata": {},
     "output_type": "execute_result"
    }
   ],
   "source": [
    "accs"
   ]
  },
  {
   "cell_type": "code",
   "execution_count": 20,
   "metadata": {},
   "outputs": [],
   "source": [
    "driver.bot.execute_script(f\"window.open('https://x.com/{accs[0]}', '_blank');\")"
   ]
  },
  {
   "cell_type": "code",
   "execution_count": 24,
   "metadata": {},
   "outputs": [
    {
     "data": {
      "text/plain": [
       "['6B5204CFE9678ACBB24355338E9F41C4', 'EF1DEACCDEBF0096A18485605C5E0168']"
      ]
     },
     "execution_count": 24,
     "metadata": {},
     "output_type": "execute_result"
    }
   ],
   "source": [
    "driver.bot.window_handles"
   ]
  },
  {
   "cell_type": "code",
   "execution_count": 25,
   "metadata": {},
   "outputs": [],
   "source": [
    "driver.bot.switch_to.window(driver.bot.window_handles[1])"
   ]
  },
  {
   "cell_type": "code",
   "execution_count": 28,
   "metadata": {},
   "outputs": [],
   "source": [
    "followers = driver.bot.find_element(By.XPATH, '//a[contains(@href, \"followers\")]')"
   ]
  },
  {
   "cell_type": "code",
   "execution_count": 31,
   "metadata": {},
   "outputs": [
    {
     "data": {
      "text/plain": [
       "'401K'"
      ]
     },
     "execution_count": 31,
     "metadata": {},
     "output_type": "execute_result"
    }
   ],
   "source": [
    "followers.text.split(\" \")[0]"
   ]
  },
  {
   "cell_type": "code",
   "execution_count": 32,
   "metadata": {},
   "outputs": [],
   "source": [
    "driver.bot.close()"
   ]
  },
  {
   "cell_type": "code",
   "execution_count": 36,
   "metadata": {},
   "outputs": [],
   "source": [
    "driver.bot.switch_to.window(driver.bot.window_handles[0])"
   ]
  },
  {
   "cell_type": "code",
   "execution_count": 37,
   "metadata": {},
   "outputs": [
    {
     "name": "stdout",
     "output_type": "stream",
     "text": [
      "\n",
      "@TheHockeyIndia 401K\n",
      "\n",
      "\n",
      "@EelcoHoecke 29.5K\n",
      "\n"
     ]
    },
    {
     "ename": "NoSuchElementException",
     "evalue": "Message: no such element: Unable to locate element: {\"method\":\"xpath\",\"selector\":\"//a[contains(@href, \"followers\")]\"}\n  (Session info: chrome=127.0.6533.89); For documentation on this error, please visit: https://www.selenium.dev/documentation/webdriver/troubleshooting/errors#no-such-element-exception\nStacktrace:\n\tGetHandleVerifier [0x00007FF7EE059632+30946]\n\t(No symbol) [0x00007FF7EE00E3C9]\n\t(No symbol) [0x00007FF7EDF06FDA]\n\t(No symbol) [0x00007FF7EDF5822C]\n\t(No symbol) [0x00007FF7EDF5850C]\n\t(No symbol) [0x00007FF7EDF9DCB7]\n\t(No symbol) [0x00007FF7EDF7CAAF]\n\t(No symbol) [0x00007FF7EDF9B041]\n\t(No symbol) [0x00007FF7EDF7C813]\n\t(No symbol) [0x00007FF7EDF4A6E5]\n\t(No symbol) [0x00007FF7EDF4B021]\n\tGetHandleVerifier [0x00007FF7EE18F83D+1301229]\n\tGetHandleVerifier [0x00007FF7EE19BDB7+1351783]\n\tGetHandleVerifier [0x00007FF7EE192A03+1313971]\n\tGetHandleVerifier [0x00007FF7EE08DD06+245686]\n\t(No symbol) [0x00007FF7EE01758F]\n\t(No symbol) [0x00007FF7EE013804]\n\t(No symbol) [0x00007FF7EE013992]\n\t(No symbol) [0x00007FF7EE00A3EF]\n\tBaseThreadInitThunk [0x00007FFFE5557374+20]\n\tRtlUserThreadStart [0x00007FFFE571CC91+33]\n",
     "output_type": "error",
     "traceback": [
      "\u001b[1;31m---------------------------------------------------------------------------\u001b[0m",
      "\u001b[1;31mNoSuchElementException\u001b[0m                    Traceback (most recent call last)",
      "Cell \u001b[1;32mIn[37], line 5\u001b[0m\n\u001b[0;32m      3\u001b[0m time\u001b[38;5;241m.\u001b[39msleep(\u001b[38;5;241m3\u001b[39m)\n\u001b[0;32m      4\u001b[0m driver\u001b[38;5;241m.\u001b[39mbot\u001b[38;5;241m.\u001b[39mswitch_to\u001b[38;5;241m.\u001b[39mwindow(driver\u001b[38;5;241m.\u001b[39mbot\u001b[38;5;241m.\u001b[39mwindow_handles[\u001b[38;5;241m1\u001b[39m])\n\u001b[1;32m----> 5\u001b[0m followers \u001b[38;5;241m=\u001b[39m \u001b[43mdriver\u001b[49m\u001b[38;5;241;43m.\u001b[39;49m\u001b[43mbot\u001b[49m\u001b[38;5;241;43m.\u001b[39;49m\u001b[43mfind_element\u001b[49m\u001b[43m(\u001b[49m\u001b[43mBy\u001b[49m\u001b[38;5;241;43m.\u001b[39;49m\u001b[43mXPATH\u001b[49m\u001b[43m,\u001b[49m\u001b[43m \u001b[49m\u001b[38;5;124;43m'\u001b[39;49m\u001b[38;5;124;43m//a[contains(@href, \u001b[39;49m\u001b[38;5;124;43m\"\u001b[39;49m\u001b[38;5;124;43mfollowers\u001b[39;49m\u001b[38;5;124;43m\"\u001b[39;49m\u001b[38;5;124;43m)]\u001b[39;49m\u001b[38;5;124;43m'\u001b[39;49m\u001b[43m)\u001b[49m\n\u001b[0;32m      6\u001b[0m \u001b[38;5;28mprint\u001b[39m()\n\u001b[0;32m      7\u001b[0m \u001b[38;5;28mprint\u001b[39m(acc, followers\u001b[38;5;241m.\u001b[39mtext\u001b[38;5;241m.\u001b[39msplit(\u001b[38;5;124m\"\u001b[39m\u001b[38;5;124m \u001b[39m\u001b[38;5;124m\"\u001b[39m)[\u001b[38;5;241m0\u001b[39m])\n",
      "File \u001b[1;32mc:\\Users\\Huzaifa Azhar\\.virtualenvs\\X_scripts-4UgVm7sb\\Lib\\site-packages\\selenium\\webdriver\\remote\\webdriver.py:748\u001b[0m, in \u001b[0;36mWebDriver.find_element\u001b[1;34m(self, by, value)\u001b[0m\n\u001b[0;32m    745\u001b[0m     by \u001b[38;5;241m=\u001b[39m By\u001b[38;5;241m.\u001b[39mCSS_SELECTOR\n\u001b[0;32m    746\u001b[0m     value \u001b[38;5;241m=\u001b[39m \u001b[38;5;124mf\u001b[39m\u001b[38;5;124m'\u001b[39m\u001b[38;5;124m[name=\u001b[39m\u001b[38;5;124m\"\u001b[39m\u001b[38;5;132;01m{\u001b[39;00mvalue\u001b[38;5;132;01m}\u001b[39;00m\u001b[38;5;124m\"\u001b[39m\u001b[38;5;124m]\u001b[39m\u001b[38;5;124m'\u001b[39m\n\u001b[1;32m--> 748\u001b[0m \u001b[38;5;28;01mreturn\u001b[39;00m \u001b[38;5;28;43mself\u001b[39;49m\u001b[38;5;241;43m.\u001b[39;49m\u001b[43mexecute\u001b[49m\u001b[43m(\u001b[49m\u001b[43mCommand\u001b[49m\u001b[38;5;241;43m.\u001b[39;49m\u001b[43mFIND_ELEMENT\u001b[49m\u001b[43m,\u001b[49m\u001b[43m \u001b[49m\u001b[43m{\u001b[49m\u001b[38;5;124;43m\"\u001b[39;49m\u001b[38;5;124;43musing\u001b[39;49m\u001b[38;5;124;43m\"\u001b[39;49m\u001b[43m:\u001b[49m\u001b[43m \u001b[49m\u001b[43mby\u001b[49m\u001b[43m,\u001b[49m\u001b[43m \u001b[49m\u001b[38;5;124;43m\"\u001b[39;49m\u001b[38;5;124;43mvalue\u001b[39;49m\u001b[38;5;124;43m\"\u001b[39;49m\u001b[43m:\u001b[49m\u001b[43m \u001b[49m\u001b[43mvalue\u001b[49m\u001b[43m}\u001b[49m\u001b[43m)\u001b[49m[\u001b[38;5;124m\"\u001b[39m\u001b[38;5;124mvalue\u001b[39m\u001b[38;5;124m\"\u001b[39m]\n",
      "File \u001b[1;32mc:\\Users\\Huzaifa Azhar\\.virtualenvs\\X_scripts-4UgVm7sb\\Lib\\site-packages\\selenium\\webdriver\\remote\\webdriver.py:354\u001b[0m, in \u001b[0;36mWebDriver.execute\u001b[1;34m(self, driver_command, params)\u001b[0m\n\u001b[0;32m    352\u001b[0m response \u001b[38;5;241m=\u001b[39m \u001b[38;5;28mself\u001b[39m\u001b[38;5;241m.\u001b[39mcommand_executor\u001b[38;5;241m.\u001b[39mexecute(driver_command, params)\n\u001b[0;32m    353\u001b[0m \u001b[38;5;28;01mif\u001b[39;00m response:\n\u001b[1;32m--> 354\u001b[0m     \u001b[38;5;28;43mself\u001b[39;49m\u001b[38;5;241;43m.\u001b[39;49m\u001b[43merror_handler\u001b[49m\u001b[38;5;241;43m.\u001b[39;49m\u001b[43mcheck_response\u001b[49m\u001b[43m(\u001b[49m\u001b[43mresponse\u001b[49m\u001b[43m)\u001b[49m\n\u001b[0;32m    355\u001b[0m     response[\u001b[38;5;124m\"\u001b[39m\u001b[38;5;124mvalue\u001b[39m\u001b[38;5;124m\"\u001b[39m] \u001b[38;5;241m=\u001b[39m \u001b[38;5;28mself\u001b[39m\u001b[38;5;241m.\u001b[39m_unwrap_value(response\u001b[38;5;241m.\u001b[39mget(\u001b[38;5;124m\"\u001b[39m\u001b[38;5;124mvalue\u001b[39m\u001b[38;5;124m\"\u001b[39m, \u001b[38;5;28;01mNone\u001b[39;00m))\n\u001b[0;32m    356\u001b[0m     \u001b[38;5;28;01mreturn\u001b[39;00m response\n",
      "File \u001b[1;32mc:\\Users\\Huzaifa Azhar\\.virtualenvs\\X_scripts-4UgVm7sb\\Lib\\site-packages\\selenium\\webdriver\\remote\\errorhandler.py:229\u001b[0m, in \u001b[0;36mErrorHandler.check_response\u001b[1;34m(self, response)\u001b[0m\n\u001b[0;32m    227\u001b[0m         alert_text \u001b[38;5;241m=\u001b[39m value[\u001b[38;5;124m\"\u001b[39m\u001b[38;5;124malert\u001b[39m\u001b[38;5;124m\"\u001b[39m]\u001b[38;5;241m.\u001b[39mget(\u001b[38;5;124m\"\u001b[39m\u001b[38;5;124mtext\u001b[39m\u001b[38;5;124m\"\u001b[39m)\n\u001b[0;32m    228\u001b[0m     \u001b[38;5;28;01mraise\u001b[39;00m exception_class(message, screen, stacktrace, alert_text)  \u001b[38;5;66;03m# type: ignore[call-arg]  # mypy is not smart enough here\u001b[39;00m\n\u001b[1;32m--> 229\u001b[0m \u001b[38;5;28;01mraise\u001b[39;00m exception_class(message, screen, stacktrace)\n",
      "\u001b[1;31mNoSuchElementException\u001b[0m: Message: no such element: Unable to locate element: {\"method\":\"xpath\",\"selector\":\"//a[contains(@href, \"followers\")]\"}\n  (Session info: chrome=127.0.6533.89); For documentation on this error, please visit: https://www.selenium.dev/documentation/webdriver/troubleshooting/errors#no-such-element-exception\nStacktrace:\n\tGetHandleVerifier [0x00007FF7EE059632+30946]\n\t(No symbol) [0x00007FF7EE00E3C9]\n\t(No symbol) [0x00007FF7EDF06FDA]\n\t(No symbol) [0x00007FF7EDF5822C]\n\t(No symbol) [0x00007FF7EDF5850C]\n\t(No symbol) [0x00007FF7EDF9DCB7]\n\t(No symbol) [0x00007FF7EDF7CAAF]\n\t(No symbol) [0x00007FF7EDF9B041]\n\t(No symbol) [0x00007FF7EDF7C813]\n\t(No symbol) [0x00007FF7EDF4A6E5]\n\t(No symbol) [0x00007FF7EDF4B021]\n\tGetHandleVerifier [0x00007FF7EE18F83D+1301229]\n\tGetHandleVerifier [0x00007FF7EE19BDB7+1351783]\n\tGetHandleVerifier [0x00007FF7EE192A03+1313971]\n\tGetHandleVerifier [0x00007FF7EE08DD06+245686]\n\t(No symbol) [0x00007FF7EE01758F]\n\t(No symbol) [0x00007FF7EE013804]\n\t(No symbol) [0x00007FF7EE013992]\n\t(No symbol) [0x00007FF7EE00A3EF]\n\tBaseThreadInitThunk [0x00007FFFE5557374+20]\n\tRtlUserThreadStart [0x00007FFFE571CC91+33]\n"
     ]
    }
   ],
   "source": [
    "for acc in accs:\n",
    "    driver.bot.execute_script(f\"window.open('https://x.com/{acc}', '_blank');\")\n",
    "    time.sleep(3)\n",
    "    driver.bot.switch_to.window(driver.bot.window_handles[1])\n",
    "    followers = driver.bot.find_element(By.XPATH, '//a[contains(@href, \"followers\")]')\n",
    "    print()\n",
    "    print(acc, followers.text.split(\" \")[0])\n",
    "    print()\n",
    "    driver.bot.close()\n",
    "    time.sleep(3)\n",
    "    driver.bot.switch_to.window(driver.bot.window_handles[0])"
   ]
  },
  {
   "cell_type": "code",
   "execution_count": null,
   "metadata": {},
   "outputs": [],
   "source": []
  }
 ],
 "metadata": {
  "kernelspec": {
   "display_name": "X_scripts-4UgVm7sb",
   "language": "python",
   "name": "python3"
  },
  "language_info": {
   "codemirror_mode": {
    "name": "ipython",
    "version": 3
   },
   "file_extension": ".py",
   "mimetype": "text/x-python",
   "name": "python",
   "nbconvert_exporter": "python",
   "pygments_lexer": "ipython3",
   "version": "3.12.2"
  }
 },
 "nbformat": 4,
 "nbformat_minor": 2
}
