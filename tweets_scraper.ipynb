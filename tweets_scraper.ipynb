{
 "cells": [
  {
   "cell_type": "code",
   "execution_count": 76,
   "metadata": {},
   "outputs": [],
   "source": [
    "from selenium import webdriver\n",
    "from selenium.webdriver.common.keys import Keys\n",
    "from selenium.webdriver import ActionChains\n",
    "from selenium.webdriver.chrome.options import Options\n",
    "from selenium.webdriver.chrome.service import Service\n",
    "from selenium.webdriver.common.by import By\n",
    "from selenium.common.exceptions import NoSuchElementException, StaleElementReferenceException\n",
    "import selenium\n",
    "import datetime\n",
    "import os\n",
    "import time"
   ]
  },
  {
   "cell_type": "code",
   "execution_count": 77,
   "metadata": {},
   "outputs": [],
   "source": [
    "username = os.getenv('username')\n",
    "password = os.getenv('password')"
   ]
  },
  {
   "cell_type": "code",
   "execution_count": 78,
   "metadata": {},
   "outputs": [],
   "source": [
    "class Twitterbot:\n",
    " \n",
    "    def __init__(self, email, password):\n",
    "        self.email = email\n",
    "        self.password = password\n",
    "        chrome_options = Options()\n",
    "        chrome_options.add_argument(\"--start-maximized\")\n",
    "        service = Service(executable_path=os.path.join(os.getcwd(),'chromedriver.exe'))\n",
    "        self.bot = webdriver.Chrome(\n",
    "            options = chrome_options,\n",
    "            service=service\n",
    "        )\n",
    " \n",
    "    def login(self):\n",
    "        tries = 0\n",
    "        while True:\n",
    "            try:\n",
    "                bot = self.bot\n",
    "                bot.get('https://twitter.com/login')\n",
    "                time.sleep(6)\n",
    "                email = bot.find_element(By.XPATH,\n",
    "                    '//input'\n",
    "                )\n",
    "                email.send_keys(self.email)\n",
    "                \n",
    "                time.sleep(5)\n",
    "                ActionChains(bot).send_keys(Keys.RETURN).perform()\n",
    "                time.sleep(3)\n",
    "                password = bot.find_elements(By.TAG_NAME,\n",
    "                    \"input\"\n",
    "                )[1]\n",
    "                password.send_keys(self.password)\n",
    "                \n",
    "                ActionChains(bot).send_keys(Keys.RETURN).perform()\n",
    "                time.sleep(3)\n",
    "                break\n",
    "            except Exception:\n",
    "                if tries >= 1:\n",
    "                    break\n",
    "                tries += 1\n",
    "            except KeyboardInterrupt:\n",
    "                return"
   ]
  },
  {
   "cell_type": "code",
   "execution_count": 81,
   "metadata": {},
   "outputs": [],
   "source": [
    "driver = Twitterbot(username, password)"
   ]
  },
  {
   "cell_type": "code",
   "execution_count": 82,
   "metadata": {},
   "outputs": [],
   "source": [
    "driver.login()"
   ]
  },
  {
   "cell_type": "code",
   "execution_count": 41,
   "metadata": {},
   "outputs": [],
   "source": [
    "driver.bot.get('https://twitter.com/')"
   ]
  },
  {
   "cell_type": "code",
   "execution_count": 83,
   "metadata": {},
   "outputs": [],
   "source": [
    "from_date = \"2024-07-01\"\n",
    "end_date = \"2024-08-01\"\n",
    "\n",
    "replies = False\n",
    "from_account = \"elonmusk\"\n",
    "\n",
    "query = f\"(from:{from_account}) until:{end_date} since:{from_date}\"\n",
    "if not replies:\n",
    "    query += \" -filter:replies\""
   ]
  },
  {
   "cell_type": "code",
   "execution_count": 84,
   "metadata": {},
   "outputs": [],
   "source": [
    "search = driver.bot.find_element(By.XPATH, '//input[@placeholder=\"Search\"]')\n",
    "search.send_keys(Keys.CONTROL + \"a\")\n",
    "search.send_keys(Keys.DELETE)\n",
    "search.send_keys(query)\n",
    "search.send_keys(Keys.RETURN)"
   ]
  },
  {
   "cell_type": "code",
   "execution_count": 85,
   "metadata": {},
   "outputs": [],
   "source": [
    "latest = driver.bot.find_element(By.XPATH, '//span[text()=\"Latest\"]')\n",
    "latest.click()"
   ]
  },
  {
   "cell_type": "code",
   "execution_count": 88,
   "metadata": {},
   "outputs": [],
   "source": [
    "tweets = driver.bot.find_elements(By.XPATH, '//article')"
   ]
  },
  {
   "cell_type": "code",
   "execution_count": 89,
   "metadata": {},
   "outputs": [
    {
     "data": {
      "text/plain": [
       "[<selenium.webdriver.remote.webelement.WebElement (session=\"f73fd5cf38b16d3a8b88ff8d3eec5f8a\", element=\"f.F480C4F681BB8FAD4C75F536D81C44B1.d.84FF8889B812958705B06BA024277D50.e.196\")>,\n",
       " <selenium.webdriver.remote.webelement.WebElement (session=\"f73fd5cf38b16d3a8b88ff8d3eec5f8a\", element=\"f.F480C4F681BB8FAD4C75F536D81C44B1.d.84FF8889B812958705B06BA024277D50.e.197\")>,\n",
       " <selenium.webdriver.remote.webelement.WebElement (session=\"f73fd5cf38b16d3a8b88ff8d3eec5f8a\", element=\"f.F480C4F681BB8FAD4C75F536D81C44B1.d.84FF8889B812958705B06BA024277D50.e.198\")>,\n",
       " <selenium.webdriver.remote.webelement.WebElement (session=\"f73fd5cf38b16d3a8b88ff8d3eec5f8a\", element=\"f.F480C4F681BB8FAD4C75F536D81C44B1.d.84FF8889B812958705B06BA024277D50.e.199\")>]"
      ]
     },
     "execution_count": 89,
     "metadata": {},
     "output_type": "execute_result"
    }
   ],
   "source": [
    "tweets"
   ]
  },
  {
   "cell_type": "code",
   "execution_count": 90,
   "metadata": {},
   "outputs": [],
   "source": [
    "test_tweet = tweets[0]\n",
    "test_tweet_text = test_tweet.text"
   ]
  },
  {
   "cell_type": "code",
   "execution_count": 91,
   "metadata": {},
   "outputs": [
    {
     "name": "stdout",
     "output_type": "stream",
     "text": [
      "Elon Musk\n",
      "@elonmusk\n",
      "·\n",
      "Aug 1\n",
      "…\n",
      "Quote\n",
      "Wall Street Silver\n",
      "@WallStreetSilv\n",
      "·\n",
      "Jul 31\n",
      "Kamala Harris says she supports illegal immigrants getting free healthcare.\n",
      "\n",
      "Also with open borders, the entire planet of 8 billions people could come to the USA and get free healthcare. \n",
      "\n",
      "It is an insane combo of policies.\n",
      "Show more\n",
      "0:16\n",
      "20K\n",
      "76K\n",
      "270K\n",
      "41M\n"
     ]
    }
   ],
   "source": [
    "print(test_tweet_text)"
   ]
  },
  {
   "cell_type": "code",
   "execution_count": 92,
   "metadata": {},
   "outputs": [],
   "source": [
    "test_tweet2 = tweets[1]"
   ]
  },
  {
   "cell_type": "code",
   "execution_count": 93,
   "metadata": {},
   "outputs": [],
   "source": [
    "attached_imgs = test_tweet2.find_elements(By.XPATH, './/div[@data-testid=\"tweetPhoto\"]')"
   ]
  },
  {
   "cell_type": "code",
   "execution_count": 94,
   "metadata": {},
   "outputs": [
    {
     "data": {
      "text/plain": [
       "[<selenium.webdriver.remote.webelement.WebElement (session=\"f73fd5cf38b16d3a8b88ff8d3eec5f8a\", element=\"f.F480C4F681BB8FAD4C75F536D81C44B1.d.84FF8889B812958705B06BA024277D50.e.201\")>]"
      ]
     },
     "execution_count": 94,
     "metadata": {},
     "output_type": "execute_result"
    }
   ],
   "source": [
    "attached_imgs"
   ]
  },
  {
   "cell_type": "code",
   "execution_count": 95,
   "metadata": {},
   "outputs": [
    {
     "name": "stdout",
     "output_type": "stream",
     "text": [
      "https://pbs.twimg.com/media/GT2R3GnbQAARZRF?format=jpg&name=small\n"
     ]
    }
   ],
   "source": [
    "for img in attached_imgs:\n",
    "    img = img.find_elements(By.XPATH, './/img')\n",
    "    for i in img:\n",
    "        print(i.get_attribute(\"src\"))"
   ]
  },
  {
   "cell_type": "code",
   "execution_count": 96,
   "metadata": {},
   "outputs": [
    {
     "name": "stdout",
     "output_type": "stream",
     "text": [
      "Elon Musk\n",
      "@elonmusk\n",
      "·\n",
      "Aug 1\n",
      "…\n",
      "Quote\n",
      "Wall Street Silver\n",
      "@WallStreetSilv\n",
      "·\n",
      "Jul 31\n",
      "Kamala Harris says she supports illegal immigrants getting free healthcare.\n",
      "\n",
      "Also with open borders, the entire planet of 8 billions people could come to the USA and get free healthcare. \n",
      "\n",
      "It is an insane combo of policies.\n",
      "Show more\n",
      "0:08\n",
      "20K\n",
      "76K\n",
      "270K\n",
      "41M\n",
      "\n",
      "\n",
      "Elon Musk\n",
      "@elonmusk\n",
      "·\n",
      "Aug 1\n",
      "10K\n",
      "30K\n",
      "491K\n",
      "65M\n",
      "https://pbs.twimg.com/media/GT2R3GnbQAARZRF?format=jpg&name=small\n",
      "\n",
      "\n",
      "Elon Musk\n",
      "@elonmusk\n",
      "·\n",
      "Aug 1\n",
      "Interesting\n",
      "Quote\n",
      "David Marcus\n",
      "@davidmarcus\n",
      "·\n",
      "Jul 31\n",
      "I am crossing the Rubicon and backing the Republican Party and President Trump.\n",
      "\n",
      "Many — including a former version of myself — get trapped in a mental framework that becomes their identity and prevents them from radically evolving their thinking with new facts and information. I\n",
      "Show more\n",
      "4.5K\n",
      "20K\n",
      "124K\n",
      "38M\n",
      "\n",
      "\n",
      "Elon Musk\n",
      "@elonmusk\n",
      "·\n",
      "Jul 31\n",
      "Just did a search for “Trump rally” on Google and Kamala was the top result!\n",
      "50K\n",
      "85K\n",
      "458K\n",
      "53M\n",
      "https://pbs.twimg.com/media/GT1aE4UbwAEs8wk?format=jpg&name=small\n",
      "\n",
      "\n"
     ]
    }
   ],
   "source": [
    "for tweet in tweets:\n",
    "    print(tweet.text)\n",
    "    attached_imgs = tweet.find_elements(By.XPATH, './/div[@data-testid=\"tweetPhoto\"]')\n",
    "    for img in attached_imgs:\n",
    "        img = img.find_elements(By.XPATH, './/img')\n",
    "        for i in img:\n",
    "            print(i.get_attribute(\"src\"))\n",
    "    print()\n",
    "    print()"
   ]
  },
  {
   "cell_type": "code",
   "execution_count": null,
   "metadata": {},
   "outputs": [],
   "source": []
  }
 ],
 "metadata": {
  "kernelspec": {
   "display_name": "X_scripts-4UgVm7sb",
   "language": "python",
   "name": "python3"
  },
  "language_info": {
   "codemirror_mode": {
    "name": "ipython",
    "version": 3
   },
   "file_extension": ".py",
   "mimetype": "text/x-python",
   "name": "python",
   "nbconvert_exporter": "python",
   "pygments_lexer": "ipython3",
   "version": "3.12.2"
  }
 },
 "nbformat": 4,
 "nbformat_minor": 2
}
